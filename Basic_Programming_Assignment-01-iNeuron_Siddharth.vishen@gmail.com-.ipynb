{
 "cells": [
  {
   "cell_type": "code",
   "execution_count": null,
   "metadata": {},
   "outputs": [],
   "source": [
    "#1.\tWrite a Python program to print \"Hello Python\"?\n",
    "\n",
    "print(\"Hello Python\")"
   ]
  },
  {
   "cell_type": "code",
   "execution_count": null,
   "metadata": {},
   "outputs": [],
   "source": [
    "# 2.\tWrite a Python program to do arithmetical operations addition and division.?\n",
    "\n",
    "a=int(input(\"enter first number:\"))\n",
    "b=int(input(\"enter second number:\"))\n",
    "add_num=a+b\n",
    "divide_num=a/b\n",
    "print(add_num)\n",
    "print(divide_num)"
   ]
  },
  {
   "cell_type": "code",
   "execution_count": null,
   "metadata": {},
   "outputs": [],
   "source": [
    "# 3.\tWrite a Python program to find the area of a triangle?\n",
    "base=int(input(\"enter base number:\"))\n",
    "height=int(input(\"enter height number:\"))\n",
    "area_triangle=(base*height)/2\n",
    "print(f\"Area of triangle is {area_triangle}\")"
   ]
  },
  {
   "cell_type": "code",
   "execution_count": 6,
   "metadata": {},
   "outputs": [
    {
     "name": "stdout",
     "output_type": "stream",
     "text": [
      "enter a:3\n",
      "enter b:4\n",
      "a becomes4\n",
      "b becomes3\n"
     ]
    }
   ],
   "source": [
    "# 4.\tWrite a Python program to swap two variables?\n",
    "\n",
    "a=int(input(\"enter a:\"))\n",
    "b=int(input(\"enter b:\"))\n",
    "c=a\n",
    "a=b\n",
    "b=c\n",
    "\n",
    "\n",
    "print(f\"a becomes{a}\")\n",
    "print(f\"b becomes{b}\")\n"
   ]
  },
  {
   "cell_type": "code",
   "execution_count": 19,
   "metadata": {},
   "outputs": [
    {
     "name": "stdout",
     "output_type": "stream",
     "text": [
      "8\n"
     ]
    }
   ],
   "source": [
    "# 5.\tWrite a Python program to generate a random number?\n",
    "import random\n",
    "a=random.randint(0,9)\n",
    "print(a)"
   ]
  },
  {
   "cell_type": "code",
   "execution_count": null,
   "metadata": {},
   "outputs": [],
   "source": []
  },
  {
   "cell_type": "code",
   "execution_count": null,
   "metadata": {},
   "outputs": [],
   "source": []
  }
 ],
 "metadata": {
  "kernelspec": {
   "display_name": "Python 3",
   "language": "python",
   "name": "python3"
  },
  "language_info": {
   "codemirror_mode": {
    "name": "ipython",
    "version": 3
   },
   "file_extension": ".py",
   "mimetype": "text/x-python",
   "name": "python",
   "nbconvert_exporter": "python",
   "pygments_lexer": "ipython3",
   "version": "3.7.6"
  }
 },
 "nbformat": 4,
 "nbformat_minor": 4
}
