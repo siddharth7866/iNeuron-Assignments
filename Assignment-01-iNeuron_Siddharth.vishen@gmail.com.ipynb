{
 "cells": [
  {
   "cell_type": "markdown",
   "metadata": {},
   "source": [
    "# Assignment-01"
   ]
  },
  {
   "cell_type": "markdown",
   "metadata": {},
   "source": [
    "Q1.1. In the below elements which of them are values or an expression? eg:- values can be integer or string and expressions will be mathematical operators.\n",
    "* \n",
    "'hello'-Values-(String)\n",
    "-87.8-Values(Float)\n",
    "- -Expression(Subtraction Operator)\n",
    "/ -Expression(Divide  Operator)\n",
    "+-Expression(Multiplication Operator)\n",
    "6 -Value(Integer)\n"
   ]
  },
  {
   "cell_type": "markdown",
   "metadata": {},
   "source": [
    "Q2. What is the difference between string and variable?\n",
    "VAriable can have any value between program and they act as container for holding values(Values can be any string or integer)\n",
    ".On the other hand string are value in itself."
   ]
  },
  {
   "cell_type": "markdown",
   "metadata": {},
   "source": [
    "Q.3 Describe three different data types.\n",
    "Three data types are Numeric,String,Boolean.\n",
    "Example-Numeric-Integer(10),Float(10.2)\n",
    "        String-\"Any name under this double quote\",\"8\"\n",
    "        Boolean-True(1),False(0)"
   ]
  },
  {
   "cell_type": "markdown",
   "metadata": {},
   "source": [
    "# Q.4 What is an expression made up of? What do all expressions do?\n",
    "An expression is made up of values and operator.\n",
    "A=\"Siddharth\"\n",
    "B=4+5\n",
    "\n",
    "Expressions are the building blocks of any program/codes."
   ]
  },
  {
   "cell_type": "markdown",
   "metadata": {},
   "source": [
    "Q.5 This assignment statements, like spam = 10. What is the difference between an expression and a statement?\n",
    "Statement does not take part in programming in either way.They are just written to tell anyone about the below expression.\n",
    "On the other hand expression takes part in programing,they are the building blocks of any program."
   ]
  },
  {
   "cell_type": "markdown",
   "metadata": {},
   "source": [
    "Q.6. After running the following code, what does the variable bacon contain?\n",
    "bacon = 22\n",
    "bacon + 1\n",
    " The value of bacon is 23"
   ]
  },
  {
   "cell_type": "markdown",
   "metadata": {},
   "source": [
    "7. What should the values of the following two terms be?\n",
    "'spam' + 'spamspam'\n",
    "'spam' * 3\n",
    "The vlue of both will be :'spamspamspam'"
   ]
  },
  {
   "cell_type": "markdown",
   "metadata": {},
   "source": [
    "Q8. Why is eggs a valid variable name while 100 is invalid?\n",
    "In python varibale can not be start with numeric number:"
   ]
  },
  {
   "cell_type": "markdown",
   "metadata": {},
   "source": [
    "10. Why does this expression cause an error? How can you fix it?\n",
    "'I have eaten ' + 99 + ' burritos.'\n",
    "The problem in this is that string and integer can not be concatenated. we have to 99 in string by using '' or as type method\n",
    "'I have eaten ' + '99' + ' burritos.'\n",
    "Output will be:'I have eaten 99 burritos.'"
   ]
  },
  {
   "cell_type": "markdown",
   "metadata": {},
   "source": [
    "Q.9.9. What three functions can be used to get the integer, floating-point number, or string version of a value?\n",
    "The three fucntion that can be use are str,int,float and by using these three we can do type conversion."
   ]
  },
  {
   "cell_type": "code",
   "execution_count": null,
   "metadata": {},
   "outputs": [],
   "source": []
  }
 ],
 "metadata": {
  "kernelspec": {
   "display_name": "Python 3",
   "language": "python",
   "name": "python3"
  },
  "language_info": {
   "codemirror_mode": {
    "name": "ipython",
    "version": 3
   },
   "file_extension": ".py",
   "mimetype": "text/x-python",
   "name": "python",
   "nbconvert_exporter": "python",
   "pygments_lexer": "ipython3",
   "version": "3.7.6"
  }
 },
 "nbformat": 4,
 "nbformat_minor": 4
}
