{
 "cells": [
  {
   "cell_type": "markdown",
   "metadata": {},
   "source": [
    "Q1.What are the two values of the Boolean data type? How do you write them?\n",
    "The two types of boolean data types are True & False.\n",
    "True:1\n",
    "False:0"
   ]
  },
  {
   "cell_type": "markdown",
   "metadata": {},
   "source": [
    "Q2. What are the three different types of Boolean operators?\n",
    "The three different types of Boolean operators are:\n",
    "    And-&\n",
    "    Or-or\n",
    "    Not-!="
   ]
  },
  {
   "cell_type": "markdown",
   "metadata": {},
   "source": [
    "# Q3. Make a list of each Boolean operator's truth tables (i.e. every possible combination of Boolean values for the operator and what it evaluate ).\n",
    "\n",
    "\n",
    "And Logic:\n",
    "    0,0 -0\n",
    "    0,1 -0\n",
    "    1,0 -1\n",
    "    1,1 -1\n",
    "Or Logic:\n",
    "    0,0-0\n",
    "    0,1-1\n",
    "    1,0-1\n",
    "    1,1-1\n",
    "Not Logic:\n",
    "    0-1\n",
    "    1-0\n",
    "   "
   ]
  },
  {
   "cell_type": "code",
   "execution_count": null,
   "metadata": {},
   "outputs": [],
   "source": [
    "Q.4. What are the values of the following expressions?\n",
    "(5 > 4) and (3 == 5)-False\n",
    "not (5 > 4)-False\n",
    "(5 > 4) or (3 == 5)-True\n",
    "not ((5 > 4) or (3 == 5))-False\n",
    "(True and True) and (True == False)-False\n",
    "(not False) or (not True)-True\n"
   ]
  },
  {
   "cell_type": "code",
   "execution_count": null,
   "metadata": {},
   "outputs": [],
   "source": [
    "Q5. What are the six comparison operators?\n",
    "1.Greater than>\n",
    "2.Less Than<\n",
    "3.Equal To-==\n",
    "4.Greater than equal to>=\n",
    "5.Less than Equal to<=\n",
    "6.Not equal to!="
   ]
  },
  {
   "cell_type": "code",
   "execution_count": null,
   "metadata": {},
   "outputs": [],
   "source": [
    "Q.6. How do you tell the difference between the equal to and assignment operators?\n",
    "Describe a condition and when you would use one.\n",
    "\n",
    "In assignment operator we use single = whereas in Equal to we use ==\n",
    "For example A==B-----------To check whether A is equal to B or not\n",
    "A=B---------------here we are making values of A is equal to B"
   ]
  },
  {
   "cell_type": "code",
   "execution_count": 2,
   "metadata": {},
   "outputs": [
    {
     "name": "stdout",
     "output_type": "stream",
     "text": [
      "ham\n",
      "spam\n",
      "spam\n"
     ]
    }
   ],
   "source": [
    "Q.7. Identify the three blocks in this code:\n",
    "spam = 0\n",
    "if spam == 10:\n",
    "    print('eggs')\n",
    "if spam > 5:\n",
    "    print('bacon')\n",
    "else:\n",
    "    print('ham')\n",
    "    print('spam')\n",
    "    print('spam')\n",
    "The three blocks in this code are:\n",
    "    1.Spam variable initialisation\n",
    "    2.IF Block\n",
    "    3.Else Block\n"
   ]
  },
  {
   "cell_type": "code",
   "execution_count": 4,
   "metadata": {},
   "outputs": [
    {
     "name": "stdout",
     "output_type": "stream",
     "text": [
      "Greetings!\n"
     ]
    }
   ],
   "source": [
    "# Q.8. Write code that prints Hello if 1 is stored in spam, \n",
    "# prints Howdy if 2 is stored in spam, and prints Greetings! if anything else is stored in spam.\n",
    "\n",
    "spam=0\n",
    "if spam==1:\n",
    "    print(\"Hello\")\n",
    "elif spam==2:\n",
    "    print(\"Howdy\")\n",
    "else:\n",
    "    print(\"Greetings!\")\n",
    "    "
   ]
  },
  {
   "cell_type": "code",
   "execution_count": null,
   "metadata": {},
   "outputs": [],
   "source": [
    "9.If your programme is stuck in an endless loop, what keys you’ll press?\n",
    "We can stop endless loop by pressing Ctrl+C."
   ]
  },
  {
   "cell_type": "code",
   "execution_count": null,
   "metadata": {},
   "outputs": [],
   "source": [
    "10. How can you tell the difference between break and continue?\n",
    "\n",
    "Break Statement:Break statement in Python is used to bring the control out of the loop when \n",
    "    some external condition is triggered. \n",
    "    Break statement is put inside the loop body (generally after if condition).\n",
    "Continue Statement:Continue statement is a loop control statement that forces to execute the \n",
    "    next iteration of the loop while skipping the rest of the code inside the loop for the\n",
    "    current iteration only i.e. when the continue statement is executed in the loop, the \n",
    "    code inside the loop following the continue statement will be skipped for the current iteration \n",
    "    and the next iteration of the loop will begin."
   ]
  },
  {
   "cell_type": "code",
   "execution_count": null,
   "metadata": {},
   "outputs": [],
   "source": [
    "11. In a for loop, what is the difference between range(10), range(0, 10), and range(0, 10, 1)?\n",
    "range(10)-----When using this statement it will be deciding that where to stop.In this case it will start from zero\n",
    "range(0, 10)----------When using this statement it will be decided that from where to start and where to stop\n",
    " range(0, 10, 1)---------When using this statement it will be decided that from where to start \n",
    "    and where to stop and ho much\n",
    "    difference we want between two numers"
   ]
  },
  {
   "cell_type": "code",
   "execution_count": 14,
   "metadata": {},
   "outputs": [
    {
     "name": "stdout",
     "output_type": "stream",
     "text": [
      "1\n",
      "2\n",
      "3\n",
      "4\n",
      "5\n",
      "6\n",
      "7\n",
      "8\n",
      "9\n",
      "10\n"
     ]
    }
   ],
   "source": [
    "# 12. Using For Loop\n",
    "Write a short program that prints the numbers 1 to 10 using a for loop. \n",
    "# Then write an equivalent program that prints the \n",
    "# numbers 1 to 10 using a while loop.\n",
    "\n",
    "\n",
    "for i in range(1,11):\n",
    "    print(i)\n"
   ]
  },
  {
   "cell_type": "code",
   "execution_count": 17,
   "metadata": {},
   "outputs": [
    {
     "name": "stdout",
     "output_type": "stream",
     "text": [
      "1\n",
      "2\n",
      "3\n",
      "4\n",
      "5\n",
      "6\n",
      "7\n",
      "8\n",
      "9\n",
      "10\n"
     ]
    }
   ],
   "source": [
    "# # 12. Using While Loop\n",
    "# Write a short program that prints the numbers 1 to 10 using a for loop. \n",
    "# # Then write an equivalent program that prints the \n",
    "# # numbers 1 to 10 using a while loop.\n",
    "\n",
    "i=0\n",
    "while i<10:\n",
    "    i=i+1\n",
    "    print(i)"
   ]
  },
  {
   "cell_type": "code",
   "execution_count": null,
   "metadata": {},
   "outputs": [],
   "source": [
    "13. If you had a function named bacon() inside a module named spam, how would you call it after importing spam?\n",
    "\n",
    "It can be called as:\n",
    "    \n",
    "    spam.bacon()"
   ]
  }
 ],
 "metadata": {
  "kernelspec": {
   "display_name": "Python 3",
   "language": "python",
   "name": "python3"
  },
  "language_info": {
   "codemirror_mode": {
    "name": "ipython",
    "version": 3
   },
   "file_extension": ".py",
   "mimetype": "text/x-python",
   "name": "python",
   "nbconvert_exporter": "python",
   "pygments_lexer": "ipython3",
   "version": "3.7.6"
  }
 },
 "nbformat": 4,
 "nbformat_minor": 4
}
